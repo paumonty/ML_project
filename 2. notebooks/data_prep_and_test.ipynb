{
 "cells": [
  {
   "cell_type": "markdown",
   "id": "2342c4f4",
   "metadata": {},
   "source": [
    "### Preparacion de la info"
   ]
  },
  {
   "cell_type": "code",
   "execution_count": 9,
   "id": "0d8b5757",
   "metadata": {},
   "outputs": [
    {
     "name": "stdout",
     "output_type": "stream",
     "text": [
      "              precision    recall  f1-score   support\n",
      "\n",
      "           0       0.91      0.96      0.94      6990\n",
      "           1       0.83      0.68      0.75      2010\n",
      "\n",
      "    accuracy                           0.90      9000\n",
      "   macro avg       0.87      0.82      0.84      9000\n",
      "weighted avg       0.89      0.90      0.89      9000\n",
      "\n"
     ]
    },
    {
     "data": {
      "text/plain": [
       "['modelo_entrenado.pkl']"
      ]
     },
     "execution_count": 9,
     "metadata": {},
     "output_type": "execute_result"
    }
   ],
   "source": [
    "from sklearn.model_selection import train_test_split\n",
    "from sklearn.preprocessing import OneHotEncoder, StandardScaler\n",
    "from sklearn.compose import ColumnTransformer\n",
    "from sklearn.pipeline import Pipeline\n",
    "from sklearn.ensemble import RandomForestClassifier\n",
    "from sklearn.metrics import classification_report, confusion_matrix\n",
    "import pandas as pd\n",
    "import joblib\n",
    "\n",
    "df = pd.read_csv(\"loan_data.csv\")\n",
    "\n",
    "selected_features = [\n",
    "    'person_age',\n",
    "    'person_gender',\n",
    "    'person_education',\n",
    "    'person_income',\n",
    "    'person_emp_exp',\n",
    "    'person_home_ownership',\n",
    "    'loan_amnt',\n",
    "    'loan_intent',\n",
    "    'credit_score',\n",
    "    'previous_loan_defaults_on_file'\n",
    "]\n",
    "\n",
    "X = df[selected_features]\n",
    "y = df[\"loan_status\"]\n",
    "\n",
    "num_features = X.select_dtypes(include=['int64', 'float64']).columns.tolist()\n",
    "cat_features = X.select_dtypes(include=['object']).columns.tolist()\n",
    "\n",
    "X_train, X_test, y_train, y_test = train_test_split(X, y, test_size=0.2, random_state=42)\n",
    "\n",
    "preprocessor = ColumnTransformer([\n",
    "    (\"num\", StandardScaler(), num_features),\n",
    "    (\"cat\", OneHotEncoder(drop='first'), cat_features)\n",
    "])\n",
    "\n",
    "model = Pipeline(steps=[\n",
    "    (\"preprocessor\", preprocessor),\n",
    "    (\"classifier\", RandomForestClassifier(random_state=42))\n",
    "])\n",
    "\n",
    "model.fit(X_train, y_train)\n",
    "\n",
    "y_pred = model.predict(X_test)\n",
    "print(classification_report(y_test, y_pred))\n",
    "\n",
    "joblib.dump(model, \"modelo_entrenado.pkl\")"
   ]
  }
 ],
 "metadata": {
  "kernelspec": {
   "display_name": "Python 3",
   "language": "python",
   "name": "python3"
  },
  "language_info": {
   "codemirror_mode": {
    "name": "ipython",
    "version": 3
   },
   "file_extension": ".py",
   "mimetype": "text/x-python",
   "name": "python",
   "nbconvert_exporter": "python",
   "pygments_lexer": "ipython3",
   "version": "3.13.3"
  }
 },
 "nbformat": 4,
 "nbformat_minor": 5
}
